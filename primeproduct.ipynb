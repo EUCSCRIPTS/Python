{
 "cells": [
  {
   "cell_type": "code",
   "execution_count": 16,
   "metadata": {},
   "outputs": [],
   "source": [
    "def isprime(m):\n",
    "    if m < 0:\n",
    "        return False\n",
    "    elif m < 2:\n",
    "        return False\n",
    "    elif m == 2:\n",
    "        return True\n",
    "    else:\n",
    "        for i in range(2,m//2+1):\n",
    "            if m%i == 0:\n",
    "                return False\n",
    "                break\n",
    "        else:\n",
    "            return True\n",
    "\n",
    "def primeproduct(n):\n",
    "    prime = []\n",
    "    for i in range(2,n):\n",
    "        if(isprime(i)):\n",
    "            prime.append(i)\n",
    "    for i in range(0,len(prime)):\n",
    "        for j in range(1,len(prime)):\n",
    "            if(prime[i]*prime[j] == n):\n",
    "                return True\n",
    "                break\n",
    "    return False"
   ]
  },
  {
   "cell_type": "code",
   "execution_count": 20,
   "metadata": {},
   "outputs": [],
   "source": [
    "def primeproduct(n):\n",
    "    prime = []\n",
    "    for i in range(2,n):\n",
    "        if(isprime(i)):\n",
    "            prime.append(i)\n",
    "    for i in range(0,len(prime)):\n",
    "        for j in range(1,len(prime)):\n",
    "            if(prime[i]*prime[j] == n):\n",
    "                return True\n",
    "                break\n",
    "    return False"
   ]
  },
  {
   "cell_type": "code",
   "execution_count": 21,
   "metadata": {},
   "outputs": [
    {
     "data": {
      "text/plain": [
       "True"
      ]
     },
     "execution_count": 21,
     "metadata": {},
     "output_type": "execute_result"
    }
   ],
   "source": [
    "primeproduct(10)"
   ]
  },
  {
   "cell_type": "code",
   "execution_count": 22,
   "metadata": {},
   "outputs": [
    {
     "data": {
      "text/plain": [
       "False"
      ]
     },
     "execution_count": 22,
     "metadata": {},
     "output_type": "execute_result"
    }
   ],
   "source": [
    "primeproduct()"
   ]
  },
  {
   "cell_type": "code",
   "execution_count": 23,
   "metadata": {},
   "outputs": [
    {
     "data": {
      "text/plain": [
       "True"
      ]
     },
     "execution_count": 23,
     "metadata": {},
     "output_type": "execute_result"
    }
   ],
   "source": [
    "primeproduct(202)"
   ]
  },
  {
   "cell_type": "code",
   "execution_count": null,
   "metadata": {},
   "outputs": [],
   "source": []
  }
 ],
 "metadata": {
  "kernelspec": {
   "display_name": "Python 3",
   "language": "python",
   "name": "python3"
  },
  "language_info": {
   "codemirror_mode": {
    "name": "ipython",
    "version": 3
   },
   "file_extension": ".py",
   "mimetype": "text/x-python",
   "name": "python",
   "nbconvert_exporter": "python",
   "pygments_lexer": "ipython3",
   "version": "3.7.4"
  }
 },
 "nbformat": 4,
 "nbformat_minor": 2
}
